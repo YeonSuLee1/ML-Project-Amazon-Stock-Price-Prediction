{
 "cells": [
  {
   "cell_type": "markdown",
   "metadata": {},
   "source": [
    "# Importing libraries"
   ]
  },
  {
   "cell_type": "code",
   "execution_count": 1,
   "metadata": {},
   "outputs": [],
   "source": [
    "import numpy as np\n",
    "import matplotlib.pyplot as plt\n",
    "import pandas as pd\n",
    "import seaborn as sns"
   ]
  },
  {
   "cell_type": "markdown",
   "metadata": {},
   "source": [
    "# Importing dataset"
   ]
  },
  {
   "cell_type": "code",
   "execution_count": 2,
   "metadata": {},
   "outputs": [],
   "source": [
    "dataset_train = pd.read_csv('AMZNtrain.csv')\n",
    "training_set = dataset_train.iloc[:, 1:2].values"
   ]
  },
  {
   "cell_type": "code",
   "execution_count": 3,
   "metadata": {},
   "outputs": [
    {
     "data": {
      "text/html": [
       "<div>\n",
       "<style scoped>\n",
       "    .dataframe tbody tr th:only-of-type {\n",
       "        vertical-align: middle;\n",
       "    }\n",
       "\n",
       "    .dataframe tbody tr th {\n",
       "        vertical-align: top;\n",
       "    }\n",
       "\n",
       "    .dataframe thead th {\n",
       "        text-align: right;\n",
       "    }\n",
       "</style>\n",
       "<table border=\"1\" class=\"dataframe\">\n",
       "  <thead>\n",
       "    <tr style=\"text-align: right;\">\n",
       "      <th></th>\n",
       "      <th>Date</th>\n",
       "      <th>Open</th>\n",
       "      <th>High</th>\n",
       "      <th>Low</th>\n",
       "      <th>Close</th>\n",
       "      <th>Adj Close</th>\n",
       "      <th>Volume</th>\n",
       "    </tr>\n",
       "  </thead>\n",
       "  <tbody>\n",
       "    <tr>\n",
       "      <th>0</th>\n",
       "      <td>2014-01-02</td>\n",
       "      <td>398.799988</td>\n",
       "      <td>399.359985</td>\n",
       "      <td>394.019989</td>\n",
       "      <td>397.970001</td>\n",
       "      <td>397.970001</td>\n",
       "      <td>2137800</td>\n",
       "    </tr>\n",
       "    <tr>\n",
       "      <th>1</th>\n",
       "      <td>2014-01-03</td>\n",
       "      <td>398.290009</td>\n",
       "      <td>402.709991</td>\n",
       "      <td>396.220001</td>\n",
       "      <td>396.440002</td>\n",
       "      <td>396.440002</td>\n",
       "      <td>2210200</td>\n",
       "    </tr>\n",
       "    <tr>\n",
       "      <th>2</th>\n",
       "      <td>2014-01-06</td>\n",
       "      <td>395.850006</td>\n",
       "      <td>397.000000</td>\n",
       "      <td>388.420013</td>\n",
       "      <td>393.630005</td>\n",
       "      <td>393.630005</td>\n",
       "      <td>3170600</td>\n",
       "    </tr>\n",
       "    <tr>\n",
       "      <th>3</th>\n",
       "      <td>2014-01-07</td>\n",
       "      <td>395.040009</td>\n",
       "      <td>398.470001</td>\n",
       "      <td>394.290009</td>\n",
       "      <td>398.029999</td>\n",
       "      <td>398.029999</td>\n",
       "      <td>1916000</td>\n",
       "    </tr>\n",
       "    <tr>\n",
       "      <th>4</th>\n",
       "      <td>2014-01-08</td>\n",
       "      <td>398.470001</td>\n",
       "      <td>403.000000</td>\n",
       "      <td>396.040009</td>\n",
       "      <td>401.920013</td>\n",
       "      <td>401.920013</td>\n",
       "      <td>2316500</td>\n",
       "    </tr>\n",
       "  </tbody>\n",
       "</table>\n",
       "</div>"
      ],
      "text/plain": [
       "         Date        Open        High         Low       Close   Adj Close  \\\n",
       "0  2014-01-02  398.799988  399.359985  394.019989  397.970001  397.970001   \n",
       "1  2014-01-03  398.290009  402.709991  396.220001  396.440002  396.440002   \n",
       "2  2014-01-06  395.850006  397.000000  388.420013  393.630005  393.630005   \n",
       "3  2014-01-07  395.040009  398.470001  394.290009  398.029999  398.029999   \n",
       "4  2014-01-08  398.470001  403.000000  396.040009  401.920013  401.920013   \n",
       "\n",
       "    Volume  \n",
       "0  2137800  \n",
       "1  2210200  \n",
       "2  3170600  \n",
       "3  1916000  \n",
       "4  2316500  "
      ]
     },
     "execution_count": 3,
     "metadata": {},
     "output_type": "execute_result"
    }
   ],
   "source": [
    "dataset_train.head()"
   ]
  },
  {
   "cell_type": "code",
   "execution_count": 4,
   "metadata": {},
   "outputs": [
    {
     "data": {
      "text/plain": [
       "(1258, 7)"
      ]
     },
     "execution_count": 4,
     "metadata": {},
     "output_type": "execute_result"
    }
   ],
   "source": [
    "dataset_train.shape"
   ]
  },
  {
   "cell_type": "code",
   "execution_count": 5,
   "metadata": {},
   "outputs": [
    {
     "data": {
      "text/plain": [
       "array([[ 398.799988],\n",
       "       [ 398.290009],\n",
       "       [ 395.850006],\n",
       "       ...,\n",
       "       [1454.199951],\n",
       "       [1473.349976],\n",
       "       [1510.800049]])"
      ]
     },
     "execution_count": 5,
     "metadata": {},
     "output_type": "execute_result"
    }
   ],
   "source": [
    "training_set"
   ]
  },
  {
   "cell_type": "markdown",
   "metadata": {},
   "source": [
    "# Feature Scaling"
   ]
  },
  {
   "cell_type": "code",
   "execution_count": 6,
   "metadata": {},
   "outputs": [],
   "source": [
    "from sklearn.preprocessing import StandardScaler\n",
    "sc = StandardScaler()\n",
    "training_set_scaled = sc.fit_transform(training_set)"
   ]
  },
  {
   "cell_type": "markdown",
   "metadata": {},
   "source": [
    "# Creating timesteps"
   ]
  },
  {
   "cell_type": "code",
   "execution_count": 7,
   "metadata": {},
   "outputs": [],
   "source": [
    "# Creating a data structure with 120 timesteps and 1 output\n",
    "X_train = []\n",
    "y_train = []\n",
    "for i in range(120, 1258):\n",
    "    X_train.append(training_set_scaled[i-120:i, 0])\n",
    "    y_train.append(training_set_scaled[i, 0])\n",
    "X_train, y_train = np.array(X_train), np.array(y_train)\n",
    "\n",
    "# Reshaping to 3D (batch_size, timesteps , input_dim)\n",
    "X_train = np.reshape(X_train, (X_train.shape[0], X_train.shape[1], 1))"
   ]
  },
  {
   "cell_type": "markdown",
   "metadata": {},
   "source": [
    "# Building RNN"
   ]
  },
  {
   "cell_type": "markdown",
   "metadata": {},
   "source": [
    "## Importing Keras Libraries"
   ]
  },
  {
   "cell_type": "code",
   "execution_count": 8,
   "metadata": {},
   "outputs": [
    {
     "name": "stderr",
     "output_type": "stream",
     "text": [
      "Using TensorFlow backend.\n"
     ]
    }
   ],
   "source": [
    "from keras.models import Sequential\n",
    "from keras.layers import Dense\n",
    "from keras.layers import LSTM\n",
    "from keras.layers import Dropout"
   ]
  },
  {
   "cell_type": "code",
   "execution_count": 9,
   "metadata": {},
   "outputs": [],
   "source": [
    "regressor = Sequential()"
   ]
  },
  {
   "cell_type": "code",
   "execution_count": 10,
   "metadata": {},
   "outputs": [],
   "source": [
    "regressor.add(LSTM(units = 50, return_sequences = True, input_shape = (X_train.shape[1], 1)))\n",
    "regressor.add(Dropout(0.25))"
   ]
  },
  {
   "cell_type": "code",
   "execution_count": 11,
   "metadata": {},
   "outputs": [],
   "source": [
    "regressor.add(LSTM(units = 50, return_sequences = True))\n",
    "regressor.add(Dropout(0.25))"
   ]
  },
  {
   "cell_type": "code",
   "execution_count": 12,
   "metadata": {},
   "outputs": [],
   "source": [
    "regressor.add(LSTM(units = 50, return_sequences = True))\n",
    "regressor.add(Dropout(0.25))"
   ]
  },
  {
   "cell_type": "code",
   "execution_count": 13,
   "metadata": {},
   "outputs": [],
   "source": [
    "regressor.add(LSTM(units = 50, return_sequences = True))\n",
    "regressor.add(Dropout(0.25))"
   ]
  },
  {
   "cell_type": "code",
   "execution_count": 14,
   "metadata": {},
   "outputs": [],
   "source": [
    "regressor.add(LSTM(units = 50))\n",
    "regressor.add(Dropout(0.25))"
   ]
  },
  {
   "cell_type": "code",
   "execution_count": 15,
   "metadata": {},
   "outputs": [],
   "source": [
    "regressor.add(Dense(units = 1))"
   ]
  },
  {
   "cell_type": "code",
   "execution_count": 16,
   "metadata": {},
   "outputs": [],
   "source": [
    "regressor.compile(optimizer = 'adam', loss = 'mean_squared_error')"
   ]
  },
  {
   "cell_type": "code",
   "execution_count": 18,
   "metadata": {},
   "outputs": [
    {
     "name": "stdout",
     "output_type": "stream",
     "text": [
      "Epoch 1/100\n",
      "1138/1138 [==============================] - 31s 27ms/step - loss: 0.0141\n",
      "Epoch 2/100\n",
      "1138/1138 [==============================] - 35s 30ms/step - loss: 0.0155\n",
      "Epoch 3/100\n",
      "1138/1138 [==============================] - 27s 24ms/step - loss: 0.0152\n",
      "Epoch 4/100\n",
      "1138/1138 [==============================] - 29s 26ms/step - loss: 0.0130\n",
      "Epoch 5/100\n",
      "1138/1138 [==============================] - 23s 20ms/step - loss: 0.0144\n",
      "Epoch 6/100\n",
      "1138/1138 [==============================] - 21s 18ms/step - loss: 0.0172\n",
      "Epoch 7/100\n",
      "1138/1138 [==============================] - 21s 19ms/step - loss: 0.0125\n",
      "Epoch 8/100\n",
      "1138/1138 [==============================] - 21s 18ms/step - loss: 0.0131\n",
      "Epoch 9/100\n",
      "1138/1138 [==============================] - 28s 25ms/step - loss: 0.0142\n",
      "Epoch 10/100\n",
      "1138/1138 [==============================] - 28s 24ms/step - loss: 0.0138\n",
      "Epoch 11/100\n",
      "1138/1138 [==============================] - 32s 28ms/step - loss: 0.0152\n",
      "Epoch 12/100\n",
      "1138/1138 [==============================] - 27s 24ms/step - loss: 0.0156\n",
      "Epoch 13/100\n",
      "1138/1138 [==============================] - 28s 25ms/step - loss: 0.0143\n",
      "Epoch 14/100\n",
      "1138/1138 [==============================] - 27s 24ms/step - loss: 0.0122\n",
      "Epoch 15/100\n",
      "1138/1138 [==============================] - 27s 23ms/step - loss: 0.0133\n",
      "Epoch 16/100\n",
      "1138/1138 [==============================] - 27s 24ms/step - loss: 0.0120\n",
      "Epoch 17/100\n",
      "1138/1138 [==============================] - 26s 23ms/step - loss: 0.0139\n",
      "Epoch 18/100\n",
      "1138/1138 [==============================] - 26s 23ms/step - loss: 0.0156\n",
      "Epoch 19/100\n",
      "1138/1138 [==============================] - 26s 23ms/step - loss: 0.0157\n",
      "Epoch 20/100\n",
      "1138/1138 [==============================] - 25s 22ms/step - loss: 0.0125\n",
      "Epoch 21/100\n",
      "1138/1138 [==============================] - 24s 21ms/step - loss: 0.0130\n",
      "Epoch 22/100\n",
      "1138/1138 [==============================] - 25s 22ms/step - loss: 0.0138\n",
      "Epoch 23/100\n",
      "1138/1138 [==============================] - 25s 22ms/step - loss: 0.0127\n",
      "Epoch 24/100\n",
      "1138/1138 [==============================] - 23s 20ms/step - loss: 0.0127\n",
      "Epoch 25/100\n",
      "1138/1138 [==============================] - 22s 19ms/step - loss: 0.0133\n",
      "Epoch 26/100\n",
      "1138/1138 [==============================] - 22s 19ms/step - loss: 0.0127\n",
      "Epoch 27/100\n",
      "1138/1138 [==============================] - 21s 18ms/step - loss: 0.0133\n",
      "Epoch 28/100\n",
      "1138/1138 [==============================] - 21s 18ms/step - loss: 0.0128\n",
      "Epoch 29/100\n",
      "1138/1138 [==============================] - 24s 21ms/step - loss: 0.0123\n",
      "Epoch 30/100\n",
      "1138/1138 [==============================] - 31s 27ms/step - loss: 0.0140\n",
      "Epoch 31/100\n",
      "1138/1138 [==============================] - 27s 24ms/step - loss: 0.0139\n",
      "Epoch 32/100\n",
      "1138/1138 [==============================] - 36s 31ms/step - loss: 0.0114\n",
      "Epoch 33/100\n",
      "1138/1138 [==============================] - 26s 23ms/step - loss: 0.0125\n",
      "Epoch 34/100\n",
      "1138/1138 [==============================] - 27s 24ms/step - loss: 0.0128\n",
      "Epoch 35/100\n",
      "1138/1138 [==============================] - 28s 25ms/step - loss: 0.0141\n",
      "Epoch 36/100\n",
      "1138/1138 [==============================] - 29s 25ms/step - loss: 0.0156\n",
      "Epoch 37/100\n",
      "1138/1138 [==============================] - 25s 22ms/step - loss: 0.0135\n",
      "Epoch 38/100\n",
      "1138/1138 [==============================] - 31s 27ms/step - loss: 0.0112\n",
      "Epoch 39/100\n",
      "1138/1138 [==============================] - 29s 25ms/step - loss: 0.0116\n",
      "Epoch 40/100\n",
      "1138/1138 [==============================] - 28s 25ms/step - loss: 0.0117\n",
      "Epoch 41/100\n",
      "1138/1138 [==============================] - 26s 23ms/step - loss: 0.0126\n",
      "Epoch 42/100\n",
      "1138/1138 [==============================] - 20s 18ms/step - loss: 0.0135\n",
      "Epoch 43/100\n",
      "1138/1138 [==============================] - 24s 21ms/step - loss: 0.0142\n",
      "Epoch 44/100\n",
      "1138/1138 [==============================] - 27s 24ms/step - loss: 0.0124\n",
      "Epoch 45/100\n",
      "1138/1138 [==============================] - 27s 24ms/step - loss: 0.0142\n",
      "Epoch 46/100\n",
      "1138/1138 [==============================] - 21s 18ms/step - loss: 0.0119\n",
      "Epoch 47/100\n",
      "1138/1138 [==============================] - 31s 27ms/step - loss: 0.0117\n",
      "Epoch 48/100\n",
      "1138/1138 [==============================] - 31s 27ms/step - loss: 0.0118\n",
      "Epoch 49/100\n",
      "1138/1138 [==============================] - 22s 19ms/step - loss: 0.0112\n",
      "Epoch 50/100\n",
      "1138/1138 [==============================] - 20s 17ms/step - loss: 0.0126\n",
      "Epoch 51/100\n",
      "1138/1138 [==============================] - 20s 18ms/step - loss: 0.0118\n",
      "Epoch 52/100\n",
      "1138/1138 [==============================] - 21s 19ms/step - loss: 0.0115\n",
      "Epoch 53/100\n",
      "1138/1138 [==============================] - 21s 19ms/step - loss: 0.0129\n",
      "Epoch 54/100\n",
      "1138/1138 [==============================] - 21s 18ms/step - loss: 0.0127\n",
      "Epoch 55/100\n",
      "1138/1138 [==============================] - 22s 19ms/step - loss: 0.0117\n",
      "Epoch 56/100\n",
      "1138/1138 [==============================] - 21s 18ms/step - loss: 0.0121\n",
      "Epoch 57/100\n",
      "1138/1138 [==============================] - 21s 18ms/step - loss: 0.0118\n",
      "Epoch 58/100\n",
      "1138/1138 [==============================] - 21s 18ms/step - loss: 0.0135\n",
      "Epoch 59/100\n",
      "1138/1138 [==============================] - 21s 19ms/step - loss: 0.0127\n",
      "Epoch 60/100\n",
      "1138/1138 [==============================] - 22s 19ms/step - loss: 0.0122\n",
      "Epoch 61/100\n",
      "1138/1138 [==============================] - 22s 19ms/step - loss: 0.0122\n",
      "Epoch 62/100\n",
      "1138/1138 [==============================] - 22s 19ms/step - loss: 0.0106\n",
      "Epoch 63/100\n",
      "1138/1138 [==============================] - 22s 19ms/step - loss: 0.0127\n",
      "Epoch 64/100\n",
      "1138/1138 [==============================] - 22s 19ms/step - loss: 0.0132\n",
      "Epoch 65/100\n",
      "1138/1138 [==============================] - 22s 19ms/step - loss: 0.0136\n",
      "Epoch 66/100\n",
      "1138/1138 [==============================] - 22s 19ms/step - loss: 0.0135\n",
      "Epoch 67/100\n",
      "1138/1138 [==============================] - 22s 20ms/step - loss: 0.0130\n",
      "Epoch 68/100\n",
      "1138/1138 [==============================] - 22s 19ms/step - loss: 0.0121\n",
      "Epoch 69/100\n",
      "1138/1138 [==============================] - 22s 19ms/step - loss: 0.0116\n",
      "Epoch 70/100\n",
      "1138/1138 [==============================] - 21s 18ms/step - loss: 0.0126\n",
      "Epoch 71/100\n",
      "1138/1138 [==============================] - 20s 18ms/step - loss: 0.0137\n",
      "Epoch 72/100\n",
      "1138/1138 [==============================] - 20s 18ms/step - loss: 0.0112\n",
      "Epoch 73/100\n",
      "1138/1138 [==============================] - 21s 18ms/step - loss: 0.0108\n",
      "Epoch 74/100\n",
      "1138/1138 [==============================] - 22s 19ms/step - loss: 0.0117\n",
      "Epoch 75/100\n",
      "1138/1138 [==============================] - 22s 19ms/step - loss: 0.0126\n",
      "Epoch 76/100\n",
      "1138/1138 [==============================] - 22s 19ms/step - loss: 0.0128\n",
      "Epoch 77/100\n",
      "1138/1138 [==============================] - 22s 19ms/step - loss: 0.0129\n",
      "Epoch 78/100\n",
      "1138/1138 [==============================] - 22s 19ms/step - loss: 0.0120\n",
      "Epoch 79/100\n",
      "1138/1138 [==============================] - 22s 19ms/step - loss: 0.0113\n",
      "Epoch 80/100\n",
      "1138/1138 [==============================] - 22s 19ms/step - loss: 0.0110\n",
      "Epoch 81/100\n",
      "1138/1138 [==============================] - 22s 19ms/step - loss: 0.0117\n",
      "Epoch 82/100\n",
      "1138/1138 [==============================] - 22s 19ms/step - loss: 0.0113\n",
      "Epoch 83/100\n",
      "1138/1138 [==============================] - 22s 19ms/step - loss: 0.0109\n",
      "Epoch 84/100\n",
      "1138/1138 [==============================] - 21s 18ms/step - loss: 0.0119\n",
      "Epoch 85/100\n",
      "1138/1138 [==============================] - 21s 18ms/step - loss: 0.0121\n",
      "Epoch 86/100\n",
      "1138/1138 [==============================] - 20s 18ms/step - loss: 0.0119\n",
      "Epoch 87/100\n",
      "1138/1138 [==============================] - 21s 18ms/step - loss: 0.0121\n",
      "Epoch 88/100\n",
      "1138/1138 [==============================] - 22s 19ms/step - loss: 0.0120\n",
      "Epoch 89/100\n",
      "1138/1138 [==============================] - 21s 19ms/step - loss: 0.0139\n",
      "Epoch 90/100\n",
      "1138/1138 [==============================] - 22s 19ms/step - loss: 0.0118\n",
      "Epoch 91/100\n",
      "1138/1138 [==============================] - 22s 19ms/step - loss: 0.0118\n",
      "Epoch 92/100\n",
      "1138/1138 [==============================] - 25s 22ms/step - loss: 0.0115\n",
      "Epoch 93/100\n",
      "1138/1138 [==============================] - 25s 22ms/step - loss: 0.0110\n",
      "Epoch 94/100\n",
      "1138/1138 [==============================] - 20s 18ms/step - loss: 0.0117\n",
      "Epoch 95/100\n"
     ]
    },
    {
     "name": "stdout",
     "output_type": "stream",
     "text": [
      "1138/1138 [==============================] - 23s 20ms/step - loss: 0.0113\n",
      "Epoch 96/100\n",
      "1138/1138 [==============================] - 23s 20ms/step - loss: 0.0121\n",
      "Epoch 97/100\n",
      "1138/1138 [==============================] - 28s 25ms/step - loss: 0.0111\n",
      "Epoch 98/100\n",
      "1138/1138 [==============================] - 22s 20ms/step - loss: 0.0120\n",
      "Epoch 99/100\n",
      "1138/1138 [==============================] - 26s 22ms/step - loss: 0.0109\n",
      "Epoch 100/100\n",
      "1138/1138 [==============================] - 26s 23ms/step - loss: 0.0117\n"
     ]
    },
    {
     "data": {
      "text/plain": [
       "<keras.callbacks.callbacks.History at 0x1a2f18ed30>"
      ]
     },
     "execution_count": 18,
     "metadata": {},
     "output_type": "execute_result"
    }
   ],
   "source": [
    "regressor.fit(X_train, y_train, epochs = 100, batch_size = 32)"
   ]
  },
  {
   "cell_type": "markdown",
   "metadata": {},
   "source": [
    "# Importing actual stock price of January 2019"
   ]
  },
  {
   "cell_type": "code",
   "execution_count": 20,
   "metadata": {},
   "outputs": [],
   "source": [
    "dataset_test = pd.read_csv('AMZNtest.csv')\n",
    "real_stock_price = dataset_test.iloc[:, 1:2].values"
   ]
  },
  {
   "cell_type": "markdown",
   "metadata": {},
   "source": [
    "# Predicted stock price of January 2019"
   ]
  },
  {
   "cell_type": "code",
   "execution_count": 21,
   "metadata": {},
   "outputs": [],
   "source": [
    "dataset_total = pd.concat((dataset_train['Open'], dataset_test['Open']), axis = 0)\n",
    "inputs = dataset_total[len(dataset_total) - len(dataset_test) - 120:].values\n",
    "inputs = inputs.reshape(-1,1)\n",
    "inputs = sc.transform(inputs)\n",
    "X_test = []\n",
    "for i in range(120, 140):\n",
    "    X_test.append(inputs[i-120:i, 0])\n",
    "X_test = np.array(X_test)\n",
    "X_test = np.reshape(X_test, (X_test.shape[0], X_test.shape[1], 1))\n",
    "predicted_stock_price = regressor.predict(X_test)\n",
    "predicted_stock_price = sc.inverse_transform(predicted_stock_price)"
   ]
  },
  {
   "cell_type": "code",
   "execution_count": 22,
   "metadata": {},
   "outputs": [
    {
     "data": {
      "text/plain": [
       "(20, 1)"
      ]
     },
     "execution_count": 22,
     "metadata": {},
     "output_type": "execute_result"
    }
   ],
   "source": [
    "predicted_stock_price.shape"
   ]
  },
  {
   "cell_type": "code",
   "execution_count": 24,
   "metadata": {},
   "outputs": [
    {
     "data": {
      "text/plain": [
       "array([[1543.8157],\n",
       "       [1537.8475],\n",
       "       [1550.6635],\n",
       "       [1560.2854],\n",
       "       [1598.3066],\n",
       "       [1647.587 ],\n",
       "       [1662.6749],\n",
       "       [1657.3492],\n",
       "       [1646.995 ],\n",
       "       [1625.9836],\n",
       "       [1621.1494],\n",
       "       [1648.248 ],\n",
       "       [1663.647 ],\n",
       "       [1686.8508],\n",
       "       [1682.3602],\n",
       "       [1665.9707],\n",
       "       [1648.339 ],\n",
       "       [1656.8394],\n",
       "       [1652.3792],\n",
       "       [1646.0409]], dtype=float32)"
      ]
     },
     "execution_count": 24,
     "metadata": {},
     "output_type": "execute_result"
    }
   ],
   "source": [
    "predicted_stock_price"
   ]
  },
  {
   "cell_type": "markdown",
   "metadata": {},
   "source": [
    "# Visualizing the result"
   ]
  },
  {
   "cell_type": "code",
   "execution_count": 25,
   "metadata": {},
   "outputs": [
    {
     "data": {
      "image/png": "[encoded data removed]",
      "text/plain": [
       "<Figure size 432x288 with 1 Axes>"
      ]
     },
     "metadata": {
      "needs_background": "light"
     },
     "output_type": "display_data"
    }
   ],
   "source": [
    "plt.plot(real_stock_price, color = 'red', label = 'Real Amazon Stock Price')\n",
    "plt.plot(predicted_stock_price, color = 'blue', label = 'Predicted Amazon Stock Price')\n",
    "plt.title('Amazon Stock Price Prediction')\n",
    "plt.xlabel('Time')\n",
    "plt.ylabel('Amazon Stock Price')\n",
    "plt.legend()\n",
    "plt.show()"
   ]
  },
  {
   "cell_type": "code",
   "execution_count": null,
   "metadata": {},
   "outputs": [],
   "source": []
  }
 ],
 "metadata": {
  "kernelspec": {
   "display_name": "Python 3",
   "language": "python",
   "name": "python3"
  },
  "language_info": {
   "codemirror_mode": {
    "name": "ipython",
    "version": 3
   },
   "file_extension": ".py",
   "mimetype": "text/x-python",
   "name": "python",
   "nbconvert_exporter": "python",
   "pygments_lexer": "ipython3",
   "version": "3.7.3"
  }
 },
 "nbformat": 4,
 "nbformat_minor": 2
}
